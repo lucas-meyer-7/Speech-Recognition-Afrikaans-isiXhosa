{
 "cells": [
  {
   "cell_type": "code",
   "execution_count": 18,
   "id": "b5693db1",
   "metadata": {},
   "outputs": [],
   "source": [
    "# Standard imports\n",
    "import numpy as np\n",
    "import matplotlib.pyplot as plt\n",
    "from tqdm import tqdm\n",
    "from IPython.display import Audio, display\n",
    "\n",
    "# Custom imports\n",
    "from load_nchlt import load_nchlt\n",
    "from load_fleurs_asr import load_fleurs_asr\n",
    "from load_high_quality_tts import load_high_quality_tts"
   ]
  },
  {
   "cell_type": "code",
   "execution_count": 25,
   "id": "d34df0f4",
   "metadata": {},
   "outputs": [],
   "source": [
    "def get_durations(dataset):\n",
    "    durations = []\n",
    "    for i in tqdm(range(len(dataset))):\n",
    "        data_entry = dataset[i][\"audio\"]\n",
    "        data_entry_dur = data_entry[\"array\"].shape[0]/data_entry[\"sampling_rate\"]\n",
    "        durations.append(data_entry_dur)\n",
    "    return durations\n",
    "\n",
    "def display_n_longest(n: int):\n",
    "    max_durations_ind = np.argpartition(durations, -n)[-n:]\n",
    "    print(max_durations_ind)\n",
    "    for j in max_durations_ind:\n",
    "        data_entry = dataset[int(j)][\"audio\"]\n",
    "        audio = Audio(data=data_entry[\"array\"], rate=data_entry[\"sampling_rate\"])\n",
    "        display(audio)\n",
    "\n",
    "def plot_durations_histogram(durations):\n",
    "    plt.figure()\n",
    "    plt.hist(durations, bins='auto')\n",
    "    plt.show()"
   ]
  }
 ],
 "metadata": {
  "kernelspec": {
   "display_name": "Python 3 (ipykernel)",
   "language": "python",
   "name": "python3"
  },
  "language_info": {
   "codemirror_mode": {
    "name": "ipython",
    "version": 3
   },
   "file_extension": ".py",
   "mimetype": "text/x-python",
   "name": "python",
   "nbconvert_exporter": "python",
   "pygments_lexer": "ipython3",
   "version": "3.10.12"
  }
 },
 "nbformat": 4,
 "nbformat_minor": 5
}
