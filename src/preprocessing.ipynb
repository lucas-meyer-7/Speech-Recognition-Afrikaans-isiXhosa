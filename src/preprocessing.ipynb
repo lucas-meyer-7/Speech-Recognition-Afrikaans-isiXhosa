{
 "cells": [
  {
   "cell_type": "markdown",
   "metadata": {},
   "source": [
    "### Imports"
   ]
  },
  {
   "cell_type": "code",
   "execution_count": 1,
   "metadata": {},
   "outputs": [],
   "source": [
    "import os\n",
    "import re\n",
    "import string\n",
    "import librosa\n",
    "import numpy as np\n",
    "import pandas as pd\n",
    "import IPython.display as ipd"
   ]
  },
  {
   "cell_type": "markdown",
   "metadata": {},
   "source": [
    "### Config\n",
    "\n",
    "TODO: Use .``yaml`` file to set up configuration variables."
   ]
  },
  {
   "cell_type": "code",
   "execution_count": 2,
   "metadata": {},
   "outputs": [],
   "source": [
    "# Sample rate\n",
    "from config import SR\n",
    "\n",
    "# Paths for the directories of the data\n",
    "from config import DATA_PATH, AF_PATH, XH_PATH\n",
    "\n",
    "# Exception that is raised if the required data is not downloaded\n",
    "from config import DataNotDownloadedError"
   ]
  },
  {
   "cell_type": "markdown",
   "metadata": {},
   "source": [
    "Note that the 2nd column of the line_index.tsv file is referred to as:\n",
    " - 'label' OR 'transcript' OR 'text' OR 'sentence'\n",
    " \n",
    "We mostly use the term 'label' in the code."
   ]
  },
  {
   "cell_type": "markdown",
   "metadata": {},
   "source": [
    "### Read in transcript data (labels)"
   ]
  },
  {
   "cell_type": "code",
   "execution_count": 11,
   "metadata": {},
   "outputs": [],
   "source": [
    "if (not os.path.isdir('data/high-quality-tts-data')) or (not os.path.isdir('data')):\n",
    "    raise DataNotDownloadedError('Data is not available. Please download the data first.')\n",
    "\n",
    "af_labels = pd.read_csv(\n",
    "    os.path.join(os.path.join(DATA_PATH, AF_PATH), 'line_index.tsv'), sep='\\t')\n",
    "xh_labels = pd.read_csv(\n",
    "    os.path.join(os.path.join(DATA_PATH, XH_PATH), 'line_index.tsv'), sep='\\t')\n",
    "\n",
    "def preprocess_transcripts(column):\n",
    "    column = column.apply(lambda x: x.lower())\n",
    "    column = column.apply(lambda x: re.sub(rf'[{string.punctuation}]', '', x))\n",
    "    column = column.apply(lambda x: re.sub(r'\\d', '0', x))\n",
    "    # TODO: Use unidecode to remove diacritics (if necessary)\n",
    "    # TODO: Add <s> and </s> (if necessary)\n",
    "    #       Also probably better to do after converting sentences \n",
    "    #       into list of words/strings\n",
    "    return column\n",
    "\n",
    "for labels in [af_labels, xh_labels]:\n",
    "    labels.columns = ['file_name', 'label']\n",
    "    labels['label'] = preprocess_transcripts(labels['label'])"
   ]
  },
  {
   "cell_type": "markdown",
   "metadata": {},
   "source": [
    "### Read in audio data (using ``librosa``)"
   ]
  },
  {
   "cell_type": "code",
   "execution_count": 12,
   "metadata": {},
   "outputs": [],
   "source": [
    "af_dir =  os.path.join(os.path.join(DATA_PATH, AF_PATH), 'wavs')\n",
    "xh_dir =  os.path.join(os.path.join(DATA_PATH, XH_PATH), 'wavs')\n",
    "\n",
    "def read_wav_files(directory):\n",
    "    for filename in os.listdir(directory):\n",
    "        if filename.endswith('.wav'):\n",
    "            file_path = os.path.join(directory, filename)\n",
    "            audio_data, sample_rate = librosa.load(file_path, sr=None)\n",
    "            assert sample_rate == 48000\n",
    "            yield filename, audio_data, sample_rate\n",
    "\n",
    "audio_data_af = {}\n",
    "audio_data_xh = {}\n",
    "\n",
    "for filename, audio_data, _ in read_wav_files(af_dir):\n",
    "    audio_data_af[filename] = audio_data\n",
    "\n",
    "for filename, audio_data, _ in read_wav_files(xh_dir):\n",
    "    audio_data_xh[filename] = audio_data"
   ]
  },
  {
   "cell_type": "markdown",
   "metadata": {},
   "source": [
    "Test"
   ]
  },
  {
   "cell_type": "code",
   "execution_count": 14,
   "metadata": {},
   "outputs": [],
   "source": [
    "# audio_data_test = audio_data_af['afr_8924_2922670405.wav']\n",
    "# ipd.Audio(data=audio_data_test, rate=SR)"
   ]
  }
 ],
 "metadata": {
  "kernelspec": {
   "display_name": "Python 3",
   "language": "python",
   "name": "python3"
  },
  "language_info": {
   "codemirror_mode": {
    "name": "ipython",
    "version": 3
   },
   "file_extension": ".py",
   "mimetype": "text/x-python",
   "name": "python",
   "nbconvert_exporter": "python",
   "pygments_lexer": "ipython3",
   "version": "3.10.12"
  },
  "orig_nbformat": 4
 },
 "nbformat": 4,
 "nbformat_minor": 2
}
